{
 "cells": [
  {
   "cell_type": "code",
   "execution_count": 40,
   "id": "ab68264d-5a3f-4dc1-b74e-64d6582f83a3",
   "metadata": {},
   "outputs": [],
   "source": [
    "import requests\n",
    "import time, random"
   ]
  },
  {
   "cell_type": "code",
   "execution_count": 29,
   "id": "ae850844-6156-493f-94b9-ba2f52daaab6",
   "metadata": {},
   "outputs": [],
   "source": [
    "standard_url = \"https://fbref.com/en/comps/9/2024-2025/2024-2025-Premier-League-Stats\""
   ]
  },
  {
   "cell_type": "code",
   "execution_count": null,
   "id": "bcd9db34-72d3-40ca-aec2-ed88fcc2d086",
   "metadata": {},
   "outputs": [],
   "source": [
    "headers = {\n",
    "    \"User-Agent\": \"Mozilla/5.0 (Macintosh; Intel Mac OS X 14_5) AppleWebKit/537.36 (KHTML, like Gecko) Chrome/127.0.0.0 Safari/537.36\",\n",
    "    \"Accept-Language\": \"en-US,en;q=0.9\",\n",
    "    \"Accept-Encoding\": \"gzip, deflate, br\",\n",
    "    \"Referer\": \"https://fbref.com/\",\n",
    "    \"Connection\": \"keep-alive\",\n",
    "    \"DNT\": \"1\",\n",
    "    \"Upgrade-Insecure-Requests\": \"1\"\n",
    "}"
   ]
  },
  {
   "cell_type": "code",
   "execution_count": 31,
   "id": "f9e9aaa5-9793-4aaf-9361-2b23dcc4b384",
   "metadata": {},
   "outputs": [],
   "source": [
    "data = requests.get(standard_url, headers=headers)"
   ]
  },
  {
   "cell_type": "code",
   "execution_count": null,
   "id": "9a4294c4-deab-44eb-a1f5-fc884cfebd11",
   "metadata": {},
   "outputs": [],
   "source": [
    "from bs4 import BeautifulSoup"
   ]
  },
  {
   "cell_type": "code",
   "execution_count": 33,
   "id": "b6ddc1ff-b4bd-4dd8-bedf-bfbf26672242",
   "metadata": {},
   "outputs": [],
   "source": [
    "soup = BeautifulSoup(data.text)"
   ]
  },
  {
   "cell_type": "code",
   "execution_count": null,
   "id": "53821a35-aa00-4856-9759-8b938b04f16a",
   "metadata": {},
   "outputs": [],
   "source": [
    "print(\"stats_table\" in data.text)"
   ]
  },
  {
   "cell_type": "code",
   "execution_count": 324,
   "id": "732931b6-9d81-4f57-b035-f593feb0d39b",
   "metadata": {},
   "outputs": [],
   "source": [
    "standings_table = soup.select('table.stats_table')[0]"
   ]
  },
  {
   "cell_type": "code",
   "execution_count": 326,
   "id": "98f314cd-10d9-4559-8269-bb1e975873f9",
   "metadata": {},
   "outputs": [],
   "source": [
    "links = standings_table.find_all('a')"
   ]
  },
  {
   "cell_type": "code",
   "execution_count": 327,
   "id": "91856142-a22a-49b4-9ba0-71ada3df09cb",
   "metadata": {},
   "outputs": [],
   "source": [
    "all_href = []\n",
    "for l in links:\n",
    "    all_href.append(l.get(\"href\"))"
   ]
  },
  {
   "cell_type": "code",
   "execution_count": 328,
   "id": "37bcdf2a-3749-4532-ab4a-df16cea96804",
   "metadata": {},
   "outputs": [],
   "source": [
    "all_squads = []\n",
    "\n",
    "for l in all_href:\n",
    "    if \"/squads/\" in l:\n",
    "        all_squads.append(l)"
   ]
  },
  {
   "cell_type": "code",
   "execution_count": 329,
   "id": "83a1c13d-9a93-4443-99f2-a0a74320683c",
   "metadata": {},
   "outputs": [],
   "source": [
    "teams_url = []\n",
    "for squad in all_squads:\n",
    "    url = \"https://fbref.com\" + squad\n",
    "    teams_url.append(url)"
   ]
  },
  {
   "cell_type": "code",
   "execution_count": 330,
   "id": "00822708-51a4-4c76-b39e-b75647ded9c3",
   "metadata": {},
   "outputs": [
    {
     "data": {
      "text/plain": [
       "['https://fbref.com/en/squads/822bd0ba/2024-2025/Liverpool-Stats',\n",
       " 'https://fbref.com/en/squads/18bb7c10/2024-2025/Arsenal-Stats',\n",
       " 'https://fbref.com/en/squads/b8fd03ef/2024-2025/Manchester-City-Stats',\n",
       " 'https://fbref.com/en/squads/cff3d9bb/2024-2025/Chelsea-Stats',\n",
       " 'https://fbref.com/en/squads/b2b47a98/2024-2025/Newcastle-United-Stats',\n",
       " 'https://fbref.com/en/squads/8602292d/2024-2025/Aston-Villa-Stats',\n",
       " 'https://fbref.com/en/squads/e4a775cb/2024-2025/Nottingham-Forest-Stats',\n",
       " 'https://fbref.com/en/squads/d07537b9/2024-2025/Brighton-and-Hove-Albion-Stats',\n",
       " 'https://fbref.com/en/squads/4ba7cbea/2024-2025/Bournemouth-Stats',\n",
       " 'https://fbref.com/en/squads/cd051869/2024-2025/Brentford-Stats',\n",
       " 'https://fbref.com/en/squads/fd962109/2024-2025/Fulham-Stats',\n",
       " 'https://fbref.com/en/squads/47c64c55/2024-2025/Crystal-Palace-Stats',\n",
       " 'https://fbref.com/en/squads/d3fd31cc/2024-2025/Everton-Stats',\n",
       " 'https://fbref.com/en/squads/7c21e445/2024-2025/West-Ham-United-Stats',\n",
       " 'https://fbref.com/en/squads/19538871/2024-2025/Manchester-United-Stats',\n",
       " 'https://fbref.com/en/squads/8cec06e1/2024-2025/Wolverhampton-Wanderers-Stats',\n",
       " 'https://fbref.com/en/squads/361ca564/2024-2025/Tottenham-Hotspur-Stats',\n",
       " 'https://fbref.com/en/squads/a2d435b3/2024-2025/Leicester-City-Stats',\n",
       " 'https://fbref.com/en/squads/b74092de/2024-2025/Ipswich-Town-Stats',\n",
       " 'https://fbref.com/en/squads/33c895d4/2024-2025/Southampton-Stats']"
      ]
     },
     "execution_count": 330,
     "metadata": {},
     "output_type": "execute_result"
    }
   ],
   "source": [
    "teams_url"
   ]
  },
  {
   "cell_type": "code",
   "execution_count": 331,
   "id": "39cb2dbb-6e39-4a7a-9e1c-0bac94642804",
   "metadata": {},
   "outputs": [],
   "source": [
    "team_url = teams_url[0]"
   ]
  },
  {
   "cell_type": "code",
   "execution_count": 332,
   "id": "e009e1ae-4125-4a79-8bd9-d2a15d5822da",
   "metadata": {},
   "outputs": [],
   "source": [
    "data = requests.get(team_url, headers=headers)"
   ]
  },
  {
   "cell_type": "code",
   "execution_count": 4,
   "id": "7946500d-020d-40e3-966b-4e65e0b3845d",
   "metadata": {},
   "outputs": [],
   "source": [
    "import pandas as pd\n",
    "from io import StringIO"
   ]
  },
  {
   "cell_type": "code",
   "execution_count": 334,
   "id": "8100c88d-0724-4895-9d9d-7746b0b8a776",
   "metadata": {},
   "outputs": [],
   "source": [
    "matches = pd.read_html(StringIO(data.text), match=\"Scores & Fixtures\")"
   ]
  },
  {
   "cell_type": "code",
   "execution_count": 335,
   "id": "c9ba58bd-6ba7-49c5-abc9-21be3056c13a",
   "metadata": {},
   "outputs": [
    {
     "data": {
      "text/html": [
       "<div>\n",
       "<style scoped>\n",
       "    .dataframe tbody tr th:only-of-type {\n",
       "        vertical-align: middle;\n",
       "    }\n",
       "\n",
       "    .dataframe tbody tr th {\n",
       "        vertical-align: top;\n",
       "    }\n",
       "\n",
       "    .dataframe thead th {\n",
       "        text-align: right;\n",
       "    }\n",
       "</style>\n",
       "<table border=\"1\" class=\"dataframe\">\n",
       "  <thead>\n",
       "    <tr style=\"text-align: right;\">\n",
       "      <th></th>\n",
       "      <th>Date</th>\n",
       "      <th>Time</th>\n",
       "      <th>Comp</th>\n",
       "      <th>Round</th>\n",
       "      <th>Day</th>\n",
       "      <th>Venue</th>\n",
       "      <th>Result</th>\n",
       "      <th>GF</th>\n",
       "      <th>GA</th>\n",
       "      <th>Opponent</th>\n",
       "      <th>xG</th>\n",
       "      <th>xGA</th>\n",
       "      <th>Poss</th>\n",
       "      <th>Attendance</th>\n",
       "      <th>Captain</th>\n",
       "      <th>Formation</th>\n",
       "      <th>Opp Formation</th>\n",
       "      <th>Referee</th>\n",
       "      <th>Match Report</th>\n",
       "      <th>Notes</th>\n",
       "    </tr>\n",
       "  </thead>\n",
       "  <tbody>\n",
       "    <tr>\n",
       "      <th>0</th>\n",
       "      <td>2024-08-17</td>\n",
       "      <td>12:30</td>\n",
       "      <td>Premier League</td>\n",
       "      <td>Matchweek 1</td>\n",
       "      <td>Sat</td>\n",
       "      <td>Away</td>\n",
       "      <td>W</td>\n",
       "      <td>2</td>\n",
       "      <td>0</td>\n",
       "      <td>Ipswich Town</td>\n",
       "      <td>2.6</td>\n",
       "      <td>0.5</td>\n",
       "      <td>62.0</td>\n",
       "      <td>30014.0</td>\n",
       "      <td>Virgil van Dijk</td>\n",
       "      <td>4-2-3-1</td>\n",
       "      <td>4-2-3-1</td>\n",
       "      <td>Tim Robinson</td>\n",
       "      <td>Match Report</td>\n",
       "      <td>NaN</td>\n",
       "    </tr>\n",
       "    <tr>\n",
       "      <th>1</th>\n",
       "      <td>2024-08-25</td>\n",
       "      <td>16:30</td>\n",
       "      <td>Premier League</td>\n",
       "      <td>Matchweek 2</td>\n",
       "      <td>Sun</td>\n",
       "      <td>Home</td>\n",
       "      <td>W</td>\n",
       "      <td>2</td>\n",
       "      <td>0</td>\n",
       "      <td>Brentford</td>\n",
       "      <td>2.5</td>\n",
       "      <td>0.5</td>\n",
       "      <td>62.0</td>\n",
       "      <td>60017.0</td>\n",
       "      <td>Virgil van Dijk</td>\n",
       "      <td>4-2-3-1</td>\n",
       "      <td>4-4-2</td>\n",
       "      <td>Stuart Attwell</td>\n",
       "      <td>Match Report</td>\n",
       "      <td>NaN</td>\n",
       "    </tr>\n",
       "    <tr>\n",
       "      <th>2</th>\n",
       "      <td>2024-09-01</td>\n",
       "      <td>16:00</td>\n",
       "      <td>Premier League</td>\n",
       "      <td>Matchweek 3</td>\n",
       "      <td>Sun</td>\n",
       "      <td>Away</td>\n",
       "      <td>W</td>\n",
       "      <td>3</td>\n",
       "      <td>0</td>\n",
       "      <td>Manchester Utd</td>\n",
       "      <td>1.8</td>\n",
       "      <td>1.4</td>\n",
       "      <td>47.0</td>\n",
       "      <td>73738.0</td>\n",
       "      <td>Virgil van Dijk</td>\n",
       "      <td>4-2-3-1</td>\n",
       "      <td>4-2-3-1</td>\n",
       "      <td>Anthony Taylor</td>\n",
       "      <td>Match Report</td>\n",
       "      <td>NaN</td>\n",
       "    </tr>\n",
       "    <tr>\n",
       "      <th>3</th>\n",
       "      <td>2024-09-14</td>\n",
       "      <td>15:00</td>\n",
       "      <td>Premier League</td>\n",
       "      <td>Matchweek 4</td>\n",
       "      <td>Sat</td>\n",
       "      <td>Home</td>\n",
       "      <td>L</td>\n",
       "      <td>0</td>\n",
       "      <td>1</td>\n",
       "      <td>Nott'ham Forest</td>\n",
       "      <td>0.9</td>\n",
       "      <td>0.4</td>\n",
       "      <td>68.0</td>\n",
       "      <td>60344.0</td>\n",
       "      <td>Virgil van Dijk</td>\n",
       "      <td>4-2-3-1</td>\n",
       "      <td>4-2-3-1</td>\n",
       "      <td>Michael Oliver</td>\n",
       "      <td>Match Report</td>\n",
       "      <td>NaN</td>\n",
       "    </tr>\n",
       "    <tr>\n",
       "      <th>4</th>\n",
       "      <td>2024-09-17</td>\n",
       "      <td>21:00</td>\n",
       "      <td>Champions Lg</td>\n",
       "      <td>League phase</td>\n",
       "      <td>Tue</td>\n",
       "      <td>Away</td>\n",
       "      <td>W</td>\n",
       "      <td>3</td>\n",
       "      <td>1</td>\n",
       "      <td>it Milan</td>\n",
       "      <td>3.1</td>\n",
       "      <td>0.6</td>\n",
       "      <td>51.0</td>\n",
       "      <td>59826.0</td>\n",
       "      <td>Virgil van Dijk</td>\n",
       "      <td>4-2-3-1</td>\n",
       "      <td>4-2-3-1</td>\n",
       "      <td>Espen Eskås</td>\n",
       "      <td>Match Report</td>\n",
       "      <td>NaN</td>\n",
       "    </tr>\n",
       "  </tbody>\n",
       "</table>\n",
       "</div>"
      ],
      "text/plain": [
       "         Date   Time            Comp         Round  Day Venue Result GF GA  \\\n",
       "0  2024-08-17  12:30  Premier League   Matchweek 1  Sat  Away      W  2  0   \n",
       "1  2024-08-25  16:30  Premier League   Matchweek 2  Sun  Home      W  2  0   \n",
       "2  2024-09-01  16:00  Premier League   Matchweek 3  Sun  Away      W  3  0   \n",
       "3  2024-09-14  15:00  Premier League   Matchweek 4  Sat  Home      L  0  1   \n",
       "4  2024-09-17  21:00    Champions Lg  League phase  Tue  Away      W  3  1   \n",
       "\n",
       "          Opponent   xG  xGA  Poss  Attendance          Captain Formation  \\\n",
       "0     Ipswich Town  2.6  0.5  62.0     30014.0  Virgil van Dijk   4-2-3-1   \n",
       "1        Brentford  2.5  0.5  62.0     60017.0  Virgil van Dijk   4-2-3-1   \n",
       "2   Manchester Utd  1.8  1.4  47.0     73738.0  Virgil van Dijk   4-2-3-1   \n",
       "3  Nott'ham Forest  0.9  0.4  68.0     60344.0  Virgil van Dijk   4-2-3-1   \n",
       "4         it Milan  3.1  0.6  51.0     59826.0  Virgil van Dijk   4-2-3-1   \n",
       "\n",
       "  Opp Formation         Referee  Match Report Notes  \n",
       "0       4-2-3-1    Tim Robinson  Match Report   NaN  \n",
       "1         4-4-2  Stuart Attwell  Match Report   NaN  \n",
       "2       4-2-3-1  Anthony Taylor  Match Report   NaN  \n",
       "3       4-2-3-1  Michael Oliver  Match Report   NaN  \n",
       "4       4-2-3-1     Espen Eskås  Match Report   NaN  "
      ]
     },
     "execution_count": 335,
     "metadata": {},
     "output_type": "execute_result"
    }
   ],
   "source": [
    "matches[0].head()"
   ]
  },
  {
   "cell_type": "code",
   "execution_count": 336,
   "id": "90b67944-e1cb-49e9-878d-c4a04142eb4b",
   "metadata": {},
   "outputs": [],
   "source": [
    "soup = BeautifulSoup(data.text)"
   ]
  },
  {
   "cell_type": "code",
   "execution_count": 337,
   "id": "6d5e1e56-fd58-415f-81dd-aa3262b8c51a",
   "metadata": {},
   "outputs": [],
   "source": [
    "links = soup.find_all('a')"
   ]
  },
  {
   "cell_type": "code",
   "execution_count": 338,
   "id": "aafb5d4b-baf2-4fda-8915-ac6ce87dec3e",
   "metadata": {},
   "outputs": [],
   "source": [
    "all_href = []\n",
    "for l in links:\n",
    "    all_href.append(l.get(\"href\"))"
   ]
  },
  {
   "cell_type": "code",
   "execution_count": 339,
   "id": "86cccb72-0802-4f05-bca5-b36561b5aac3",
   "metadata": {},
   "outputs": [],
   "source": [
    "shooting_url = []\n",
    "for href in all_href:\n",
    "    if href and \"all_comps/shooting/\" in href:\n",
    "        shooting_url.append(href)\n",
    "    "
   ]
  },
  {
   "cell_type": "code",
   "execution_count": 340,
   "id": "dd0ecec7-eeb6-4c30-9407-a00c680de63b",
   "metadata": {},
   "outputs": [
    {
     "data": {
      "text/plain": [
       "'/en/squads/822bd0ba/2024-2025/matchlogs/all_comps/shooting/Liverpool-Match-Logs-All-Competitions'"
      ]
     },
     "execution_count": 340,
     "metadata": {},
     "output_type": "execute_result"
    }
   ],
   "source": [
    "shooting_url[0]"
   ]
  },
  {
   "cell_type": "code",
   "execution_count": 341,
   "id": "69d4acc1-b4bb-4723-8bde-90c6a87ba7ab",
   "metadata": {},
   "outputs": [],
   "source": [
    "data = requests.get(f\"https://fbref.com{shooting_url[0]}\", headers=headers)"
   ]
  },
  {
   "cell_type": "code",
   "execution_count": 342,
   "id": "b128faa6-a37a-4e37-ae14-b3b3dce2deee",
   "metadata": {},
   "outputs": [],
   "source": [
    "shooting = pd.read_html(StringIO(data.text), match=\"Shooting\")[0]"
   ]
  },
  {
   "cell_type": "code",
   "execution_count": 343,
   "id": "a451c497-e503-4af5-9143-929819d1c805",
   "metadata": {},
   "outputs": [
    {
     "data": {
      "text/html": [
       "<div>\n",
       "<style scoped>\n",
       "    .dataframe tbody tr th:only-of-type {\n",
       "        vertical-align: middle;\n",
       "    }\n",
       "\n",
       "    .dataframe tbody tr th {\n",
       "        vertical-align: top;\n",
       "    }\n",
       "\n",
       "    .dataframe thead tr th {\n",
       "        text-align: left;\n",
       "    }\n",
       "</style>\n",
       "<table border=\"1\" class=\"dataframe\">\n",
       "  <thead>\n",
       "    <tr>\n",
       "      <th></th>\n",
       "      <th colspan=\"10\" halign=\"left\">For Liverpool</th>\n",
       "      <th>...</th>\n",
       "      <th colspan=\"4\" halign=\"left\">Standard</th>\n",
       "      <th colspan=\"5\" halign=\"left\">Expected</th>\n",
       "      <th>Unnamed: 25_level_0</th>\n",
       "    </tr>\n",
       "    <tr>\n",
       "      <th></th>\n",
       "      <th>Date</th>\n",
       "      <th>Time</th>\n",
       "      <th>Comp</th>\n",
       "      <th>Round</th>\n",
       "      <th>Day</th>\n",
       "      <th>Venue</th>\n",
       "      <th>Result</th>\n",
       "      <th>GF</th>\n",
       "      <th>GA</th>\n",
       "      <th>Opponent</th>\n",
       "      <th>...</th>\n",
       "      <th>Dist</th>\n",
       "      <th>FK</th>\n",
       "      <th>PK</th>\n",
       "      <th>PKatt</th>\n",
       "      <th>xG</th>\n",
       "      <th>npxG</th>\n",
       "      <th>npxG/Sh</th>\n",
       "      <th>G-xG</th>\n",
       "      <th>np:G-xG</th>\n",
       "      <th>Match Report</th>\n",
       "    </tr>\n",
       "  </thead>\n",
       "  <tbody>\n",
       "    <tr>\n",
       "      <th>0</th>\n",
       "      <td>2024-08-17</td>\n",
       "      <td>12:30</td>\n",
       "      <td>Premier League</td>\n",
       "      <td>Matchweek 1</td>\n",
       "      <td>Sat</td>\n",
       "      <td>Away</td>\n",
       "      <td>W</td>\n",
       "      <td>2</td>\n",
       "      <td>0</td>\n",
       "      <td>Ipswich Town</td>\n",
       "      <td>...</td>\n",
       "      <td>14.8</td>\n",
       "      <td>0.0</td>\n",
       "      <td>0</td>\n",
       "      <td>0</td>\n",
       "      <td>2.6</td>\n",
       "      <td>2.6</td>\n",
       "      <td>0.15</td>\n",
       "      <td>-0.6</td>\n",
       "      <td>-0.6</td>\n",
       "      <td>Match Report</td>\n",
       "    </tr>\n",
       "    <tr>\n",
       "      <th>1</th>\n",
       "      <td>2024-08-25</td>\n",
       "      <td>16:30</td>\n",
       "      <td>Premier League</td>\n",
       "      <td>Matchweek 2</td>\n",
       "      <td>Sun</td>\n",
       "      <td>Home</td>\n",
       "      <td>W</td>\n",
       "      <td>2</td>\n",
       "      <td>0</td>\n",
       "      <td>Brentford</td>\n",
       "      <td>...</td>\n",
       "      <td>13.6</td>\n",
       "      <td>1.0</td>\n",
       "      <td>0</td>\n",
       "      <td>0</td>\n",
       "      <td>2.5</td>\n",
       "      <td>2.5</td>\n",
       "      <td>0.14</td>\n",
       "      <td>-0.5</td>\n",
       "      <td>-0.5</td>\n",
       "      <td>Match Report</td>\n",
       "    </tr>\n",
       "    <tr>\n",
       "      <th>2</th>\n",
       "      <td>2024-09-01</td>\n",
       "      <td>16:00</td>\n",
       "      <td>Premier League</td>\n",
       "      <td>Matchweek 3</td>\n",
       "      <td>Sun</td>\n",
       "      <td>Away</td>\n",
       "      <td>W</td>\n",
       "      <td>3</td>\n",
       "      <td>0</td>\n",
       "      <td>Manchester Utd</td>\n",
       "      <td>...</td>\n",
       "      <td>13.4</td>\n",
       "      <td>0.0</td>\n",
       "      <td>0</td>\n",
       "      <td>0</td>\n",
       "      <td>1.8</td>\n",
       "      <td>1.8</td>\n",
       "      <td>0.16</td>\n",
       "      <td>1.2</td>\n",
       "      <td>1.2</td>\n",
       "      <td>Match Report</td>\n",
       "    </tr>\n",
       "    <tr>\n",
       "      <th>3</th>\n",
       "      <td>2024-09-14</td>\n",
       "      <td>15:00</td>\n",
       "      <td>Premier League</td>\n",
       "      <td>Matchweek 4</td>\n",
       "      <td>Sat</td>\n",
       "      <td>Home</td>\n",
       "      <td>L</td>\n",
       "      <td>0</td>\n",
       "      <td>1</td>\n",
       "      <td>Nott'ham Forest</td>\n",
       "      <td>...</td>\n",
       "      <td>14.9</td>\n",
       "      <td>0.0</td>\n",
       "      <td>0</td>\n",
       "      <td>0</td>\n",
       "      <td>0.9</td>\n",
       "      <td>0.9</td>\n",
       "      <td>0.07</td>\n",
       "      <td>-0.9</td>\n",
       "      <td>-0.9</td>\n",
       "      <td>Match Report</td>\n",
       "    </tr>\n",
       "    <tr>\n",
       "      <th>4</th>\n",
       "      <td>2024-09-17</td>\n",
       "      <td>21:00</td>\n",
       "      <td>Champions Lg</td>\n",
       "      <td>League phase</td>\n",
       "      <td>Tue</td>\n",
       "      <td>Away</td>\n",
       "      <td>W</td>\n",
       "      <td>3</td>\n",
       "      <td>1</td>\n",
       "      <td>it Milan</td>\n",
       "      <td>...</td>\n",
       "      <td>15.7</td>\n",
       "      <td>1.0</td>\n",
       "      <td>0</td>\n",
       "      <td>0</td>\n",
       "      <td>3.1</td>\n",
       "      <td>3.1</td>\n",
       "      <td>0.14</td>\n",
       "      <td>-0.1</td>\n",
       "      <td>-0.1</td>\n",
       "      <td>Match Report</td>\n",
       "    </tr>\n",
       "  </tbody>\n",
       "</table>\n",
       "<p>5 rows × 26 columns</p>\n",
       "</div>"
      ],
      "text/plain": [
       "  For Liverpool                                                               \\\n",
       "           Date   Time            Comp         Round  Day Venue Result GF GA   \n",
       "0    2024-08-17  12:30  Premier League   Matchweek 1  Sat  Away      W  2  0   \n",
       "1    2024-08-25  16:30  Premier League   Matchweek 2  Sun  Home      W  2  0   \n",
       "2    2024-09-01  16:00  Premier League   Matchweek 3  Sun  Away      W  3  0   \n",
       "3    2024-09-14  15:00  Premier League   Matchweek 4  Sat  Home      L  0  1   \n",
       "4    2024-09-17  21:00    Champions Lg  League phase  Tue  Away      W  3  1   \n",
       "\n",
       "                    ... Standard               Expected                    \\\n",
       "          Opponent  ...     Dist   FK PK PKatt       xG npxG npxG/Sh G-xG   \n",
       "0     Ipswich Town  ...     14.8  0.0  0     0      2.6  2.6    0.15 -0.6   \n",
       "1        Brentford  ...     13.6  1.0  0     0      2.5  2.5    0.14 -0.5   \n",
       "2   Manchester Utd  ...     13.4  0.0  0     0      1.8  1.8    0.16  1.2   \n",
       "3  Nott'ham Forest  ...     14.9  0.0  0     0      0.9  0.9    0.07 -0.9   \n",
       "4         it Milan  ...     15.7  1.0  0     0      3.1  3.1    0.14 -0.1   \n",
       "\n",
       "          Unnamed: 25_level_0  \n",
       "  np:G-xG        Match Report  \n",
       "0    -0.6        Match Report  \n",
       "1    -0.5        Match Report  \n",
       "2     1.2        Match Report  \n",
       "3    -0.9        Match Report  \n",
       "4    -0.1        Match Report  \n",
       "\n",
       "[5 rows x 26 columns]"
      ]
     },
     "execution_count": 343,
     "metadata": {},
     "output_type": "execute_result"
    }
   ],
   "source": [
    "shooting.head()"
   ]
  },
  {
   "cell_type": "code",
   "execution_count": 344,
   "id": "8ab3a8f8-543b-4527-af65-7d4515b43b76",
   "metadata": {},
   "outputs": [],
   "source": [
    "shooting.columns = shooting.columns.droplevel()"
   ]
  },
  {
   "cell_type": "code",
   "execution_count": 345,
   "id": "e801d8d3-463c-4b82-a395-196ee9582acf",
   "metadata": {},
   "outputs": [
    {
     "data": {
      "text/html": [
       "<div>\n",
       "<style scoped>\n",
       "    .dataframe tbody tr th:only-of-type {\n",
       "        vertical-align: middle;\n",
       "    }\n",
       "\n",
       "    .dataframe tbody tr th {\n",
       "        vertical-align: top;\n",
       "    }\n",
       "\n",
       "    .dataframe thead th {\n",
       "        text-align: right;\n",
       "    }\n",
       "</style>\n",
       "<table border=\"1\" class=\"dataframe\">\n",
       "  <thead>\n",
       "    <tr style=\"text-align: right;\">\n",
       "      <th></th>\n",
       "      <th>Date</th>\n",
       "      <th>Time</th>\n",
       "      <th>Comp</th>\n",
       "      <th>Round</th>\n",
       "      <th>Day</th>\n",
       "      <th>Venue</th>\n",
       "      <th>Result</th>\n",
       "      <th>GF</th>\n",
       "      <th>GA</th>\n",
       "      <th>Opponent</th>\n",
       "      <th>...</th>\n",
       "      <th>Dist</th>\n",
       "      <th>FK</th>\n",
       "      <th>PK</th>\n",
       "      <th>PKatt</th>\n",
       "      <th>xG</th>\n",
       "      <th>npxG</th>\n",
       "      <th>npxG/Sh</th>\n",
       "      <th>G-xG</th>\n",
       "      <th>np:G-xG</th>\n",
       "      <th>Match Report</th>\n",
       "    </tr>\n",
       "  </thead>\n",
       "  <tbody>\n",
       "    <tr>\n",
       "      <th>0</th>\n",
       "      <td>2024-08-17</td>\n",
       "      <td>12:30</td>\n",
       "      <td>Premier League</td>\n",
       "      <td>Matchweek 1</td>\n",
       "      <td>Sat</td>\n",
       "      <td>Away</td>\n",
       "      <td>W</td>\n",
       "      <td>2</td>\n",
       "      <td>0</td>\n",
       "      <td>Ipswich Town</td>\n",
       "      <td>...</td>\n",
       "      <td>14.8</td>\n",
       "      <td>0.0</td>\n",
       "      <td>0</td>\n",
       "      <td>0</td>\n",
       "      <td>2.6</td>\n",
       "      <td>2.6</td>\n",
       "      <td>0.15</td>\n",
       "      <td>-0.6</td>\n",
       "      <td>-0.6</td>\n",
       "      <td>Match Report</td>\n",
       "    </tr>\n",
       "    <tr>\n",
       "      <th>1</th>\n",
       "      <td>2024-08-25</td>\n",
       "      <td>16:30</td>\n",
       "      <td>Premier League</td>\n",
       "      <td>Matchweek 2</td>\n",
       "      <td>Sun</td>\n",
       "      <td>Home</td>\n",
       "      <td>W</td>\n",
       "      <td>2</td>\n",
       "      <td>0</td>\n",
       "      <td>Brentford</td>\n",
       "      <td>...</td>\n",
       "      <td>13.6</td>\n",
       "      <td>1.0</td>\n",
       "      <td>0</td>\n",
       "      <td>0</td>\n",
       "      <td>2.5</td>\n",
       "      <td>2.5</td>\n",
       "      <td>0.14</td>\n",
       "      <td>-0.5</td>\n",
       "      <td>-0.5</td>\n",
       "      <td>Match Report</td>\n",
       "    </tr>\n",
       "    <tr>\n",
       "      <th>2</th>\n",
       "      <td>2024-09-01</td>\n",
       "      <td>16:00</td>\n",
       "      <td>Premier League</td>\n",
       "      <td>Matchweek 3</td>\n",
       "      <td>Sun</td>\n",
       "      <td>Away</td>\n",
       "      <td>W</td>\n",
       "      <td>3</td>\n",
       "      <td>0</td>\n",
       "      <td>Manchester Utd</td>\n",
       "      <td>...</td>\n",
       "      <td>13.4</td>\n",
       "      <td>0.0</td>\n",
       "      <td>0</td>\n",
       "      <td>0</td>\n",
       "      <td>1.8</td>\n",
       "      <td>1.8</td>\n",
       "      <td>0.16</td>\n",
       "      <td>1.2</td>\n",
       "      <td>1.2</td>\n",
       "      <td>Match Report</td>\n",
       "    </tr>\n",
       "    <tr>\n",
       "      <th>3</th>\n",
       "      <td>2024-09-14</td>\n",
       "      <td>15:00</td>\n",
       "      <td>Premier League</td>\n",
       "      <td>Matchweek 4</td>\n",
       "      <td>Sat</td>\n",
       "      <td>Home</td>\n",
       "      <td>L</td>\n",
       "      <td>0</td>\n",
       "      <td>1</td>\n",
       "      <td>Nott'ham Forest</td>\n",
       "      <td>...</td>\n",
       "      <td>14.9</td>\n",
       "      <td>0.0</td>\n",
       "      <td>0</td>\n",
       "      <td>0</td>\n",
       "      <td>0.9</td>\n",
       "      <td>0.9</td>\n",
       "      <td>0.07</td>\n",
       "      <td>-0.9</td>\n",
       "      <td>-0.9</td>\n",
       "      <td>Match Report</td>\n",
       "    </tr>\n",
       "    <tr>\n",
       "      <th>4</th>\n",
       "      <td>2024-09-17</td>\n",
       "      <td>21:00</td>\n",
       "      <td>Champions Lg</td>\n",
       "      <td>League phase</td>\n",
       "      <td>Tue</td>\n",
       "      <td>Away</td>\n",
       "      <td>W</td>\n",
       "      <td>3</td>\n",
       "      <td>1</td>\n",
       "      <td>it Milan</td>\n",
       "      <td>...</td>\n",
       "      <td>15.7</td>\n",
       "      <td>1.0</td>\n",
       "      <td>0</td>\n",
       "      <td>0</td>\n",
       "      <td>3.1</td>\n",
       "      <td>3.1</td>\n",
       "      <td>0.14</td>\n",
       "      <td>-0.1</td>\n",
       "      <td>-0.1</td>\n",
       "      <td>Match Report</td>\n",
       "    </tr>\n",
       "  </tbody>\n",
       "</table>\n",
       "<p>5 rows × 26 columns</p>\n",
       "</div>"
      ],
      "text/plain": [
       "         Date   Time            Comp         Round  Day Venue Result GF GA  \\\n",
       "0  2024-08-17  12:30  Premier League   Matchweek 1  Sat  Away      W  2  0   \n",
       "1  2024-08-25  16:30  Premier League   Matchweek 2  Sun  Home      W  2  0   \n",
       "2  2024-09-01  16:00  Premier League   Matchweek 3  Sun  Away      W  3  0   \n",
       "3  2024-09-14  15:00  Premier League   Matchweek 4  Sat  Home      L  0  1   \n",
       "4  2024-09-17  21:00    Champions Lg  League phase  Tue  Away      W  3  1   \n",
       "\n",
       "          Opponent  ...  Dist   FK  PK  PKatt   xG  npxG  npxG/Sh  G-xG  \\\n",
       "0     Ipswich Town  ...  14.8  0.0   0      0  2.6   2.6     0.15  -0.6   \n",
       "1        Brentford  ...  13.6  1.0   0      0  2.5   2.5     0.14  -0.5   \n",
       "2   Manchester Utd  ...  13.4  0.0   0      0  1.8   1.8     0.16   1.2   \n",
       "3  Nott'ham Forest  ...  14.9  0.0   0      0  0.9   0.9     0.07  -0.9   \n",
       "4         it Milan  ...  15.7  1.0   0      0  3.1   3.1     0.14  -0.1   \n",
       "\n",
       "   np:G-xG  Match Report  \n",
       "0     -0.6  Match Report  \n",
       "1     -0.5  Match Report  \n",
       "2      1.2  Match Report  \n",
       "3     -0.9  Match Report  \n",
       "4     -0.1  Match Report  \n",
       "\n",
       "[5 rows x 26 columns]"
      ]
     },
     "execution_count": 345,
     "metadata": {},
     "output_type": "execute_result"
    }
   ],
   "source": [
    "shooting.head()"
   ]
  },
  {
   "cell_type": "code",
   "execution_count": 346,
   "id": "430dffeb-ed3c-4046-80ac-f754f6754110",
   "metadata": {},
   "outputs": [],
   "source": [
    "team_data = matches[0].merge(shooting[[\"Date\", \"Sh\", \"SoT\", \"Dist\", \"FK\", \"PK\", \"npxG\" ]], on=\"Date\")"
   ]
  },
  {
   "cell_type": "code",
   "execution_count": 347,
   "id": "0db0fb6c-df31-40ba-8cea-f2b596ce9807",
   "metadata": {},
   "outputs": [
    {
     "data": {
      "text/plain": [
       "(57, 26)"
      ]
     },
     "execution_count": 347,
     "metadata": {},
     "output_type": "execute_result"
    }
   ],
   "source": [
    "shooting.shape"
   ]
  },
  {
   "cell_type": "code",
   "execution_count": 63,
   "id": "44400a51-6c1c-4e4b-b7c6-9bdb2639b3e1",
   "metadata": {},
   "outputs": [],
   "source": [
    "#The loop to scrape all seasons:"
   ]
  },
  {
   "cell_type": "code",
   "execution_count": 48,
   "id": "820a1dc2-413e-4a60-b584-1cacbc87881b",
   "metadata": {},
   "outputs": [],
   "source": [
    "years = list(range(2025,2021,-1))"
   ]
  },
  {
   "cell_type": "code",
   "execution_count": 49,
   "id": "c788065f-68eb-4a5f-bb35-dd9e0305567d",
   "metadata": {},
   "outputs": [
    {
     "data": {
      "text/plain": [
       "[2025, 2024, 2023, 2022]"
      ]
     },
     "execution_count": 49,
     "metadata": {},
     "output_type": "execute_result"
    }
   ],
   "source": [
    "years"
   ]
  },
  {
   "cell_type": "code",
   "execution_count": 50,
   "id": "059d1a6a-3257-4b65-bbba-b02be0fa39e5",
   "metadata": {},
   "outputs": [],
   "source": [
    "all_matches = []"
   ]
  },
  {
   "cell_type": "code",
   "execution_count": 51,
   "id": "ffc316d7-9318-4d3f-bc4c-c5e78156b987",
   "metadata": {},
   "outputs": [],
   "source": [
    "standings_url = \"https://fbref.com/en/comps/9/2024-2025/2024-2025-Premier-League-Stats\""
   ]
  },
  {
   "cell_type": "code",
   "execution_count": 52,
   "id": "f18936c6-5879-4454-9b6f-4bf18505e17e",
   "metadata": {},
   "outputs": [],
   "source": [
    "session = requests.Session()\n",
    "session.headers.update(headers) "
   ]
  },
  {
   "cell_type": "code",
   "execution_count": 53,
   "id": "4099e433-eb17-4017-9104-928c11dc1e8b",
   "metadata": {},
   "outputs": [],
   "source": [
    "\n",
    "for year in years:\n",
    "    data = session.get(standings_url, headers=headers)\n",
    "\n",
    "    time.sleep(random.uniform(4, 7))\n",
    "\n",
    "    soup = BeautifulSoup(data.text)\n",
    "    standings_table = soup.select('table.stats_table')[0]\n",
    "    \n",
    "    links = standings_table.find_all('a')\n",
    "\n",
    "    all_href = []\n",
    "    for l in links:\n",
    "        all_href.append(l.get(\"href\"))\n",
    "\n",
    "    all_squads = []\n",
    "    for l in all_href:\n",
    "        if \"/squads/\" in l:\n",
    "            all_squads.append(l)\n",
    "\n",
    "    teams_url = []\n",
    "    for squad in all_squads:\n",
    "        url = \"https://fbref.com\" + squad\n",
    "        teams_url.append(url)\n",
    "\n",
    "    previous_season = soup.select(\"a.prev\")[0].get(\"href\")\n",
    "    standings_url = f\"https://fbref.com{previous_season}\"\n",
    "\n",
    "    for team_url in teams_url:\n",
    "        team_name = team_url.split('/')[-1].replace(\"-Stats\", \"\").replace(\"-\", \" \")\n",
    "\n",
    "        data = session.get(team_url, headers=headers)\n",
    "        \n",
    "        time.sleep(random.uniform(4, 7))\n",
    "\n",
    "        matches = pd.read_html(StringIO(data.text), match=\"Scores & Fixtures\")[0]\n",
    "\n",
    "        soup = BeautifulSoup(data.text)\n",
    "        links = soup.find_all('a')\n",
    "\n",
    "        all_href = []\n",
    "        for l in links:\n",
    "            all_href.append(l.get(\"href\"))\n",
    "\n",
    "        shooting_url = []\n",
    "        for href in all_href:\n",
    "            if href and \"all_comps/shooting/\" in href:\n",
    "                shooting_url.append(href)\n",
    "\n",
    "        data = session.get(f\"https://fbref.com{shooting_url[0]}\", headers=headers)\n",
    "\n",
    "        time.sleep(random.uniform(4, 7))\n",
    "\n",
    "        shooting = pd.read_html(StringIO(data.text), match=\"Shooting\")[0]\n",
    "\n",
    "        shooting.columns = shooting.columns.droplevel()\n",
    "        \n",
    "        try:\n",
    "            team_data = matches.merge(shooting[[\"Date\", \"Sh\", \"SoT\", \"Dist\", \"FK\", \"PK\", \"npxG\" ]], on=\"Date\")\n",
    "        except ValueError:\n",
    "            continue\n",
    "\n",
    "        team_data = team_data[team_data[\"Comp\"] == \"Premier League\"]\n",
    "        team_data[\"Season\"] = year\n",
    "        team_data[\"Team\"] = team_name\n",
    "\n",
    "        all_matches.append(team_data)\n",
    "        time.sleep(5)\n",
    "    \n",
    "    \n",
    "    "
   ]
  },
  {
   "cell_type": "code",
   "execution_count": 54,
   "id": "494bdc39-b9cf-4031-9e75-14472e6c536d",
   "metadata": {},
   "outputs": [],
   "source": [
    "match_df = pd.concat(all_matches)"
   ]
  },
  {
   "cell_type": "code",
   "execution_count": 55,
   "id": "726c912c-b9d6-431a-a3f6-23b50fafbd3d",
   "metadata": {},
   "outputs": [],
   "source": [
    "match_df.columns = [c.lower() for c in match_df.columns]"
   ]
  },
  {
   "cell_type": "code",
   "execution_count": 58,
   "id": "b6487b41-0a10-45f5-ab0f-5f293767c09f",
   "metadata": {},
   "outputs": [
    {
     "data": {
      "text/plain": [
       "(3040, 28)"
      ]
     },
     "execution_count": 58,
     "metadata": {},
     "output_type": "execute_result"
    }
   ],
   "source": [
    "match_df.shape"
   ]
  },
  {
   "cell_type": "code",
   "execution_count": 64,
   "id": "6e15428b-01c2-4dc8-ac71-6062b61d3e1e",
   "metadata": {},
   "outputs": [],
   "source": [
    "match_df.to_csv(\"my_matches.csv\")"
   ]
  },
  {
   "cell_type": "code",
   "execution_count": null,
   "id": "d9aa37a6-a62f-44dc-b0ff-6c94a2a46bf9",
   "metadata": {},
   "outputs": [],
   "source": []
  }
 ],
 "metadata": {
  "kernelspec": {
   "display_name": "Python 3 (ipykernel)",
   "language": "python",
   "name": "python3"
  },
  "language_info": {
   "codemirror_mode": {
    "name": "ipython",
    "version": 3
   },
   "file_extension": ".py",
   "mimetype": "text/x-python",
   "name": "python",
   "nbconvert_exporter": "python",
   "pygments_lexer": "ipython3",
   "version": "3.13.5"
  }
 },
 "nbformat": 4,
 "nbformat_minor": 5
}
